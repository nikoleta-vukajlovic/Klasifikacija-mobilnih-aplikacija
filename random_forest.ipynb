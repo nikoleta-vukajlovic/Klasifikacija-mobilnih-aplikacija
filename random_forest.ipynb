{
 "cells": [
  {
   "cell_type": "code",
   "execution_count": 2,
   "metadata": {},
   "outputs": [],
   "source": [
    "import pandas as pd\n",
    "from sklearn.model_selection import train_test_split\n",
    "import sklearn.tree as tree\n",
    "from sklearn.tree import DecisionTreeClassifier\n",
    "from sklearn.ensemble import RandomForestClassifier\n",
    "import sklearn.metrics as metrics\n",
    "from sklearn import preprocessing\n",
    "import numpy as np\n",
    "import matplotlib.pyplot as plt"
   ]
  },
  {
   "cell_type": "code",
   "execution_count": 3,
   "metadata": {},
   "outputs": [],
   "source": [
    "df = pd.read_csv('novo_prep.csv')"
   ]
  },
  {
   "cell_type": "code",
   "execution_count": 4,
   "metadata": {},
   "outputs": [
    {
     "data": {
      "text/html": [
       "<div>\n",
       "<style scoped>\n",
       "    .dataframe tbody tr th:only-of-type {\n",
       "        vertical-align: middle;\n",
       "    }\n",
       "\n",
       "    .dataframe tbody tr th {\n",
       "        vertical-align: top;\n",
       "    }\n",
       "\n",
       "    .dataframe thead th {\n",
       "        text-align: right;\n",
       "    }\n",
       "</style>\n",
       "<table border=\"1\" class=\"dataframe\">\n",
       "  <thead>\n",
       "    <tr style=\"text-align: right;\">\n",
       "      <th></th>\n",
       "      <th>size_bytes</th>\n",
       "      <th>price</th>\n",
       "      <th>rating_count_tot</th>\n",
       "      <th>rating_count_ver</th>\n",
       "      <th>user_rating</th>\n",
       "      <th>user_rating_ver</th>\n",
       "      <th>cont_rating</th>\n",
       "      <th>prime_genre</th>\n",
       "      <th>sup_devices.num</th>\n",
       "      <th>ipadSc_urls.num</th>\n",
       "      <th>lang.num</th>\n",
       "      <th>vpp_lic</th>\n",
       "    </tr>\n",
       "  </thead>\n",
       "  <tbody>\n",
       "    <tr>\n",
       "      <th>0</th>\n",
       "      <td>100788224</td>\n",
       "      <td>3.99</td>\n",
       "      <td>21292</td>\n",
       "      <td>26</td>\n",
       "      <td>7.0</td>\n",
       "      <td>4.5</td>\n",
       "      <td>0</td>\n",
       "      <td>0</td>\n",
       "      <td>38</td>\n",
       "      <td>5</td>\n",
       "      <td>10</td>\n",
       "      <td>1</td>\n",
       "    </tr>\n",
       "    <tr>\n",
       "      <th>1</th>\n",
       "      <td>158578688</td>\n",
       "      <td>0.00</td>\n",
       "      <td>161065</td>\n",
       "      <td>26</td>\n",
       "      <td>7.0</td>\n",
       "      <td>3.5</td>\n",
       "      <td>0</td>\n",
       "      <td>4</td>\n",
       "      <td>37</td>\n",
       "      <td>5</td>\n",
       "      <td>23</td>\n",
       "      <td>1</td>\n",
       "    </tr>\n",
       "    <tr>\n",
       "      <th>2</th>\n",
       "      <td>100524032</td>\n",
       "      <td>0.00</td>\n",
       "      <td>188583</td>\n",
       "      <td>2822</td>\n",
       "      <td>6.0</td>\n",
       "      <td>4.5</td>\n",
       "      <td>0</td>\n",
       "      <td>4</td>\n",
       "      <td>37</td>\n",
       "      <td>5</td>\n",
       "      <td>3</td>\n",
       "      <td>1</td>\n",
       "    </tr>\n",
       "    <tr>\n",
       "      <th>3</th>\n",
       "      <td>128512000</td>\n",
       "      <td>0.00</td>\n",
       "      <td>262241</td>\n",
       "      <td>649</td>\n",
       "      <td>7.0</td>\n",
       "      <td>4.5</td>\n",
       "      <td>2</td>\n",
       "      <td>4</td>\n",
       "      <td>37</td>\n",
       "      <td>5</td>\n",
       "      <td>9</td>\n",
       "      <td>1</td>\n",
       "    </tr>\n",
       "    <tr>\n",
       "      <th>4</th>\n",
       "      <td>92774400</td>\n",
       "      <td>0.00</td>\n",
       "      <td>985920</td>\n",
       "      <td>5320</td>\n",
       "      <td>8.0</td>\n",
       "      <td>5.0</td>\n",
       "      <td>0</td>\n",
       "      <td>4</td>\n",
       "      <td>37</td>\n",
       "      <td>5</td>\n",
       "      <td>45</td>\n",
       "      <td>1</td>\n",
       "    </tr>\n",
       "  </tbody>\n",
       "</table>\n",
       "</div>"
      ],
      "text/plain": [
       "   size_bytes  price  rating_count_tot  rating_count_ver  user_rating  \\\n",
       "0   100788224   3.99             21292                26          7.0   \n",
       "1   158578688   0.00            161065                26          7.0   \n",
       "2   100524032   0.00            188583              2822          6.0   \n",
       "3   128512000   0.00            262241               649          7.0   \n",
       "4    92774400   0.00            985920              5320          8.0   \n",
       "\n",
       "   user_rating_ver  cont_rating  prime_genre  sup_devices.num  \\\n",
       "0              4.5            0            0               38   \n",
       "1              3.5            0            4               37   \n",
       "2              4.5            0            4               37   \n",
       "3              4.5            2            4               37   \n",
       "4              5.0            0            4               37   \n",
       "\n",
       "   ipadSc_urls.num  lang.num  vpp_lic  \n",
       "0                5        10        1  \n",
       "1                5        23        1  \n",
       "2                5         3        1  \n",
       "3                5         9        1  \n",
       "4                5        45        1  "
      ]
     },
     "execution_count": 4,
     "metadata": {},
     "output_type": "execute_result"
    }
   ],
   "source": [
    "df.head()"
   ]
  },
  {
   "cell_type": "code",
   "execution_count": 5,
   "metadata": {},
   "outputs": [
    {
     "data": {
      "text/html": [
       "<div>\n",
       "<style scoped>\n",
       "    .dataframe tbody tr th:only-of-type {\n",
       "        vertical-align: middle;\n",
       "    }\n",
       "\n",
       "    .dataframe tbody tr th {\n",
       "        vertical-align: top;\n",
       "    }\n",
       "\n",
       "    .dataframe thead th {\n",
       "        text-align: right;\n",
       "    }\n",
       "</style>\n",
       "<table border=\"1\" class=\"dataframe\">\n",
       "  <thead>\n",
       "    <tr style=\"text-align: right;\">\n",
       "      <th></th>\n",
       "      <th>size_bytes</th>\n",
       "      <th>price</th>\n",
       "      <th>rating_count_tot</th>\n",
       "      <th>rating_count_ver</th>\n",
       "      <th>user_rating</th>\n",
       "      <th>user_rating_ver</th>\n",
       "      <th>cont_rating</th>\n",
       "      <th>prime_genre</th>\n",
       "      <th>sup_devices.num</th>\n",
       "      <th>ipadSc_urls.num</th>\n",
       "      <th>lang.num</th>\n",
       "      <th>vpp_lic</th>\n",
       "    </tr>\n",
       "  </thead>\n",
       "  <tbody>\n",
       "    <tr>\n",
       "      <th>0</th>\n",
       "      <td>100788224</td>\n",
       "      <td>3.99</td>\n",
       "      <td>21292</td>\n",
       "      <td>26</td>\n",
       "      <td>7.0</td>\n",
       "      <td>4.5</td>\n",
       "      <td>0</td>\n",
       "      <td>0</td>\n",
       "      <td>38</td>\n",
       "      <td>5</td>\n",
       "      <td>10</td>\n",
       "      <td>1</td>\n",
       "    </tr>\n",
       "    <tr>\n",
       "      <th>1</th>\n",
       "      <td>158578688</td>\n",
       "      <td>0.00</td>\n",
       "      <td>161065</td>\n",
       "      <td>26</td>\n",
       "      <td>7.0</td>\n",
       "      <td>3.5</td>\n",
       "      <td>0</td>\n",
       "      <td>4</td>\n",
       "      <td>37</td>\n",
       "      <td>5</td>\n",
       "      <td>23</td>\n",
       "      <td>1</td>\n",
       "    </tr>\n",
       "    <tr>\n",
       "      <th>2</th>\n",
       "      <td>100524032</td>\n",
       "      <td>0.00</td>\n",
       "      <td>188583</td>\n",
       "      <td>2822</td>\n",
       "      <td>6.0</td>\n",
       "      <td>4.5</td>\n",
       "      <td>0</td>\n",
       "      <td>4</td>\n",
       "      <td>37</td>\n",
       "      <td>5</td>\n",
       "      <td>3</td>\n",
       "      <td>1</td>\n",
       "    </tr>\n",
       "    <tr>\n",
       "      <th>3</th>\n",
       "      <td>128512000</td>\n",
       "      <td>0.00</td>\n",
       "      <td>262241</td>\n",
       "      <td>649</td>\n",
       "      <td>7.0</td>\n",
       "      <td>4.5</td>\n",
       "      <td>2</td>\n",
       "      <td>4</td>\n",
       "      <td>37</td>\n",
       "      <td>5</td>\n",
       "      <td>9</td>\n",
       "      <td>1</td>\n",
       "    </tr>\n",
       "    <tr>\n",
       "      <th>4</th>\n",
       "      <td>92774400</td>\n",
       "      <td>0.00</td>\n",
       "      <td>985920</td>\n",
       "      <td>5320</td>\n",
       "      <td>8.0</td>\n",
       "      <td>5.0</td>\n",
       "      <td>0</td>\n",
       "      <td>4</td>\n",
       "      <td>37</td>\n",
       "      <td>5</td>\n",
       "      <td>45</td>\n",
       "      <td>1</td>\n",
       "    </tr>\n",
       "  </tbody>\n",
       "</table>\n",
       "</div>"
      ],
      "text/plain": [
       "   size_bytes  price  rating_count_tot  rating_count_ver  user_rating  \\\n",
       "0   100788224   3.99             21292                26          7.0   \n",
       "1   158578688   0.00            161065                26          7.0   \n",
       "2   100524032   0.00            188583              2822          6.0   \n",
       "3   128512000   0.00            262241               649          7.0   \n",
       "4    92774400   0.00            985920              5320          8.0   \n",
       "\n",
       "   user_rating_ver  cont_rating  prime_genre  sup_devices.num  \\\n",
       "0              4.5            0            0               38   \n",
       "1              3.5            0            4               37   \n",
       "2              4.5            0            4               37   \n",
       "3              4.5            2            4               37   \n",
       "4              5.0            0            4               37   \n",
       "\n",
       "   ipadSc_urls.num  lang.num  vpp_lic  \n",
       "0                5        10        1  \n",
       "1                5        23        1  \n",
       "2                5         3        1  \n",
       "3                5         9        1  \n",
       "4                5        45        1  "
      ]
     },
     "execution_count": 5,
     "metadata": {},
     "output_type": "execute_result"
    }
   ],
   "source": [
    "df.head()"
   ]
  },
  {
   "cell_type": "code",
   "execution_count": 6,
   "metadata": {},
   "outputs": [],
   "source": [
    "X = df.drop('user_rating', axis = 1)"
   ]
  },
  {
   "cell_type": "code",
   "execution_count": 7,
   "metadata": {},
   "outputs": [
    {
     "data": {
      "text/plain": [
       "array([7., 6., 8., 9., 5., 3., 4., 0., 2., 1.])"
      ]
     },
     "execution_count": 7,
     "metadata": {},
     "output_type": "execute_result"
    }
   ],
   "source": [
    "df['user_rating'].unique()"
   ]
  },
  {
   "cell_type": "code",
   "execution_count": 8,
   "metadata": {},
   "outputs": [],
   "source": [
    "y = df['user_rating']"
   ]
  },
  {
   "cell_type": "code",
   "execution_count": 9,
   "metadata": {},
   "outputs": [
    {
     "data": {
      "text/plain": [
       "array([7., 6., 8., 9., 5., 3., 4., 0., 2., 1.])"
      ]
     },
     "execution_count": 9,
     "metadata": {},
     "output_type": "execute_result"
    }
   ],
   "source": [
    "y.unique()"
   ]
  },
  {
   "cell_type": "code",
   "execution_count": 10,
   "metadata": {},
   "outputs": [],
   "source": [
    "X_train, X_test, y_train, y_test = train_test_split(X, y, test_size=0.2, stratify=y)"
   ]
  },
  {
   "cell_type": "code",
   "execution_count": 11,
   "metadata": {},
   "outputs": [],
   "source": [
    "clf = RandomForestClassifier(n_estimators=15, max_depth=40, criterion='entropy')"
   ]
  },
  {
   "cell_type": "code",
   "execution_count": 12,
   "metadata": {},
   "outputs": [
    {
     "data": {
      "text/plain": [
       "RandomForestClassifier(bootstrap=True, class_weight=None, criterion='entropy',\n",
       "                       max_depth=40, max_features='auto', max_leaf_nodes=None,\n",
       "                       min_impurity_decrease=0.0, min_impurity_split=None,\n",
       "                       min_samples_leaf=1, min_samples_split=2,\n",
       "                       min_weight_fraction_leaf=0.0, n_estimators=15,\n",
       "                       n_jobs=None, oob_score=False, random_state=None,\n",
       "                       verbose=0, warm_start=False)"
      ]
     },
     "execution_count": 12,
     "metadata": {},
     "output_type": "execute_result"
    }
   ],
   "source": [
    "clf.fit(X_train, y_train)"
   ]
  },
  {
   "cell_type": "code",
   "execution_count": 13,
   "metadata": {},
   "outputs": [
    {
     "data": {
      "text/plain": [
       "0.9963522668056279"
      ]
     },
     "execution_count": 13,
     "metadata": {},
     "output_type": "execute_result"
    }
   ],
   "source": [
    "clf.score(X_train, y_train)"
   ]
  },
  {
   "cell_type": "code",
   "execution_count": 14,
   "metadata": {},
   "outputs": [
    {
     "data": {
      "text/plain": [
       "0.5965277777777778"
      ]
     },
     "execution_count": 14,
     "metadata": {},
     "output_type": "execute_result"
    }
   ],
   "source": [
    "clf.score(X_test, y_test)"
   ]
  },
  {
   "cell_type": "code",
   "execution_count": 15,
   "metadata": {},
   "outputs": [
    {
     "name": "stdout",
     "output_type": "stream",
     "text": [
      "n_estimators =  5\n",
      "0.9543164842800069\n",
      "0.5541666666666667\n",
      "n_estimators =  6\n",
      "0.9694285217995484\n",
      "0.5638888888888889\n",
      "n_estimators =  7\n",
      "0.9746395692200799\n",
      "0.5743055555555555\n",
      "n_estimators =  8\n",
      "0.9817613340281397\n",
      "0.5736111111111111\n",
      "n_estimators =  9\n",
      "0.9833246482542991\n",
      "0.5805555555555556\n",
      "n_estimators =  10\n",
      "0.9881882925134619\n",
      "0.5930555555555556\n",
      "n_estimators =  11\n",
      "0.9890568004168838\n",
      "0.5861111111111111\n",
      "n_estimators =  12\n",
      "0.9925308320305715\n",
      "0.6006944444444444\n",
      "n_estimators =  13\n",
      "0.993225638353309\n",
      "0.5951388888888889\n",
      "n_estimators =  14\n",
      "0.9946152509987841\n",
      "0.6041666666666666\n",
      "n_estimators =  15\n",
      "0.9951363557408373\n",
      "0.5791666666666667\n",
      "n_estimators =  16\n",
      "0.9956574604828904\n",
      "0.5972222222222222\n",
      "n_estimators =  17\n",
      "0.9980892826124718\n",
      "0.6020833333333333\n",
      "n_estimators =  18\n",
      "0.9975681778704186\n",
      "0.6083333333333333\n",
      "n_estimators =  19\n",
      "0.9966996699669967\n",
      "0.6159722222222223\n",
      "n_estimators =  20\n",
      "0.9972207747090499\n",
      "0.6\n",
      "n_estimators =  21\n",
      "0.9982629841931562\n",
      "0.6090277777777777\n",
      "n_estimators =  22\n",
      "0.9984366857738406\n",
      "0.6145833333333334\n",
      "n_estimators =  23\n",
      "0.9987840889352093\n",
      "0.6027777777777777\n",
      "n_estimators =  24\n",
      "0.9989577905158937\n",
      "0.6055555555555555\n",
      "n_estimators =  25\n",
      "0.999131492096578\n",
      "0.6097222222222223\n",
      "n_estimators =  26\n",
      "0.999131492096578\n",
      "0.6006944444444444\n",
      "n_estimators =  27\n",
      "0.9998262984193156\n",
      "0.6194444444444445\n",
      "n_estimators =  28\n",
      "0.9996525968386313\n",
      "0.6166666666666667\n",
      "n_estimators =  29\n",
      "0.9996525968386313\n",
      "0.6152777777777778\n"
     ]
    }
   ],
   "source": [
    "for i in range(5, 30, 1):\n",
    "    print(\"n_estimators = \", i)\n",
    "    clf = RandomForestClassifier(n_estimators=i, max_depth=40, criterion='entropy')\n",
    "    clf.fit(X_train, y_train)\n",
    "    print(clf.score(X_train, y_train))\n",
    "    print(clf.score(X_test, y_test))"
   ]
  },
  {
   "cell_type": "code",
   "execution_count": 16,
   "metadata": {},
   "outputs": [
    {
     "name": "stdout",
     "output_type": "stream",
     "text": [
      "n_estimators =  5\n",
      "0.9577905158936947\n",
      "0.5618055555555556\n",
      "n_estimators =  6\n",
      "0.9673441028313358\n",
      "0.5888888888888889\n",
      "n_estimators =  7\n",
      "0.9756817787041862\n",
      "0.59375\n",
      "n_estimators =  8\n",
      "0.9815876324474553\n",
      "0.5986111111111111\n",
      "n_estimators =  9\n",
      "0.9826298419315616\n",
      "0.5923611111111111\n",
      "n_estimators =  10\n",
      "0.9892305019975681\n",
      "0.5979166666666667\n",
      "n_estimators =  11\n",
      "0.9897516067396214\n",
      "0.6006944444444444\n",
      "n_estimators =  12\n",
      "0.9911412193850964\n",
      "0.5944444444444444\n",
      "n_estimators =  13\n",
      "0.9906201146430432\n",
      "0.5868055555555556\n",
      "n_estimators =  14\n",
      "0.9939204446760466\n",
      "0.5895833333333333\n",
      "n_estimators =  15\n",
      "0.9951363557408373\n",
      "0.5930555555555556\n",
      "n_estimators =  16\n",
      "0.9960048636442591\n",
      "0.5993055555555555\n",
      "n_estimators =  17\n",
      "0.9975681778704186\n",
      "0.5993055555555555\n",
      "n_estimators =  18\n",
      "0.997741879451103\n",
      "0.6013888888888889\n",
      "n_estimators =  19\n",
      "0.9975681778704186\n",
      "0.6034722222222222\n",
      "n_estimators =  20\n",
      "0.9970470731283655\n",
      "0.6118055555555556\n",
      "n_estimators =  21\n",
      "0.997741879451103\n",
      "0.6\n",
      "n_estimators =  22\n",
      "0.9982629841931562\n",
      "0.6048611111111111\n",
      "n_estimators =  23\n",
      "0.9993051936772624\n",
      "0.5993055555555555\n",
      "n_estimators =  24\n",
      "0.9984366857738406\n",
      "0.6013888888888889\n",
      "n_estimators =  25\n",
      "0.9989577905158937\n",
      "0.6041666666666666\n",
      "n_estimators =  26\n",
      "0.9994788952579469\n",
      "0.6020833333333333\n",
      "n_estimators =  27\n",
      "0.9989577905158937\n",
      "0.6048611111111111\n",
      "n_estimators =  28\n",
      "0.9987840889352093\n",
      "0.6\n",
      "n_estimators =  29\n",
      "0.9987840889352093\n",
      "0.6076388888888888\n"
     ]
    }
   ],
   "source": [
    "for i in range(5, 30, 1):\n",
    "    print(\"n_estimators = \", i)\n",
    "    clf = RandomForestClassifier(n_estimators=i, max_depth=40, criterion='gini')\n",
    "    clf.fit(X_train, y_train)\n",
    "    print(clf.score(X_train, y_train))\n",
    "    print(clf.score(X_test, y_test))"
   ]
  },
  {
   "cell_type": "code",
   "execution_count": 18,
   "metadata": {},
   "outputs": [],
   "source": [
    "y_train_pred = clf.predict(X_train)\n",
    "y_test_pred = clf.predict(X_test)"
   ]
  },
  {
   "cell_type": "code",
   "execution_count": 19,
   "metadata": {},
   "outputs": [
    {
     "data": {
      "text/plain": [
       "array([[186,   0,   0,   0,   0,   0,   0,   0,   0,   0],\n",
       "       [  0,   4,   2,   2,   0,   1,   0,   0,   0,   0],\n",
       "       [  0,   1,   1,   1,   2,   1,   1,   1,   2,   1],\n",
       "       [  0,   0,   1,   4,   4,   5,   3,   1,   1,   2],\n",
       "       [  0,   0,   0,   1,   3,  10,  10,  14,   1,   0],\n",
       "       [  0,   1,   1,   2,   8,  18,  16,  16,  12,   3],\n",
       "       [  0,   1,   1,   0,   1,  11,  42,  44,  40,   1],\n",
       "       [  0,   0,   0,   1,   2,   8,  26, 157, 125,   6],\n",
       "       [  0,   0,   1,   0,   2,   4,  15,  94, 402,  15],\n",
       "       [  0,   0,   0,   0,   0,   4,   3,   8,  48,  35]])"
      ]
     },
     "execution_count": 19,
     "metadata": {},
     "output_type": "execute_result"
    }
   ],
   "source": [
    "conf = metrics.confusion_matrix(y_test, y_test_pred)\n",
    "conf"
   ]
  },
  {
   "cell_type": "code",
   "execution_count": 20,
   "metadata": {},
   "outputs": [
    {
     "data": {
      "image/png": "[encoded data removed]",
      "text/plain": [
       "<Figure size 432x288 with 2 Axes>"
      ]
     },
     "metadata": {
      "needs_background": "light"
     },
     "output_type": "display_data"
    }
   ],
   "source": [
    "plt.imshow(conf)\n",
    "plt.colorbar()\n",
    "plt.xticks(range(10), y)\n",
    "plt.yticks(range(10), y)\n",
    "plt.show()"
   ]
  },
  {
   "cell_type": "code",
   "execution_count": 18,
   "metadata": {},
   "outputs": [
    {
     "data": {
      "image/png": "[encoded data removed]",
      "text/plain": [
       "<Figure size 432x288 with 1 Axes>"
      ]
     },
     "metadata": {
      "needs_background": "light"
     },
     "output_type": "display_data"
    }
   ],
   "source": [
    "feat_importances = pd.Series(clf.feature_importances_, index=X.columns)\n",
    "feat_importances.plot(kind='barh')\n",
    "plt.savefig('randomforest.jpg')"
   ]
  },
  {
   "cell_type": "code",
   "execution_count": null,
   "metadata": {},
   "outputs": [],
   "source": []
  }
 ],
 "metadata": {
  "kernelspec": {
   "display_name": "Python 3",
   "language": "python",
   "name": "python3"
  },
  "language_info": {
   "codemirror_mode": {
    "name": "ipython",
    "version": 3
   },
   "file_extension": ".py",
   "mimetype": "text/x-python",
   "name": "python",
   "nbconvert_exporter": "python",
   "pygments_lexer": "ipython3",
   "version": "3.6.7"
  }
 },
 "nbformat": 4,
 "nbformat_minor": 2
}
